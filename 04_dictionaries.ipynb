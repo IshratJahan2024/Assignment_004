{
  "nbformat": 4,
  "nbformat_minor": 0,
  "metadata": {
    "colab": {
      "provenance": [],
      "authorship_tag": "ABX9TyMJvSU5vPqHs+aDM3vsIMvU",
      "include_colab_link": true
    },
    "kernelspec": {
      "name": "python3",
      "display_name": "Python 3"
    },
    "language_info": {
      "name": "python"
    }
  },
  "cells": [
    {
      "cell_type": "markdown",
      "metadata": {
        "id": "view-in-github",
        "colab_type": "text"
      },
      "source": [
        "<a href=\"https://colab.research.google.com/github/IshratJahan2024/Assignment_004/blob/main/04_dictionaries.ipynb\" target=\"_parent\"><img src=\"https://colab.research.google.com/assets/colab-badge.svg\" alt=\"Open In Colab\"/></a>"
      ]
    },
    {
      "cell_type": "code",
      "execution_count": null,
      "metadata": {
        "colab": {
          "base_uri": "https://localhost:8080/"
        },
        "id": "eupEzczucC9G",
        "outputId": "5a0a6042-f39d-4ae1-f770-69a045692a3b"
      },
      "outputs": [
        {
          "output_type": "stream",
          "name": "stdout",
          "text": [
            "00_count_nums\n",
            "Enter a number (or Exit to quit): 3\n",
            "{3: 1}\n",
            "Enter a number (or Exit to quit): 8\n",
            "{3: 1, 8: 1}\n",
            "Enter a number (or Exit to quit): 9\n",
            "{3: 1, 8: 1, 9: 1}\n",
            "Enter a number (or Exit to quit): 7\n",
            "{3: 1, 8: 1, 9: 1, 7: 1}\n",
            "Enter a number (or Exit to quit): 5\n",
            "{3: 1, 8: 1, 9: 1, 7: 1, 5: 1}\n",
            "Enter a number (or Exit to quit): 6\n",
            "{3: 1, 8: 1, 9: 1, 7: 1, 5: 1, 6: 1}\n",
            "Enter a number (or Exit to quit): 9\n",
            "{3: 1, 8: 1, 9: 2, 7: 1, 5: 1, 6: 1}\n",
            "Enter a number (or Exit to quit): \n",
            "Invalid input. Please enter a number or 'Exit'.\n",
            "\n",
            " Number Count:\n",
            "3 appears 1 times\n",
            "8 appears 1 times\n",
            "9 appears 2 times\n",
            "7 appears 1 times\n",
            "5 appears 1 times\n",
            "6 appears 1 times\n"
          ]
        }
      ],
      "source": [
        "print(\"00_count_nums\")\n",
        "\n",
        "def count_numbers():\n",
        "  count_dict = {}\n",
        "\n",
        "  while True:\n",
        "    num = input(\"Enter a number (or Exit to quit): \")\n",
        "    if num.lower() == 'Exit':\n",
        "      break\n",
        "    if num.isdigit():\n",
        "      num = int(num)\n",
        "      count_dict[num] = count_dict.get(num, 0) + 1\n",
        "      print(count_dict)\n",
        "    else:\n",
        "      print(\"Invalid input. Please enter a number or 'Exit'.\")\n",
        "      return count_dict\n",
        "\n",
        "def display_counts(count_dict):\n",
        "  print(\"\\n Number Count:\")\n",
        "  for key,value in count_dict.items():\n",
        "    print(f'{key} appears {value} times')\n",
        "\n",
        "\n",
        "if __name__ == \"__main__\":\n",
        "  count = count_numbers()\n",
        "  display_counts(count)"
      ]
    },
    {
      "cell_type": "code",
      "source": [
        "print(\"01_phonebook\")\n",
        "\n",
        "def add_contact(phonebook):\n",
        "  name = input(\"Enter contact name: \")\n",
        "  number = input(\"Enter contact number: \")\n",
        "\n",
        "  if name in phonebook:\n",
        "    print(f\"{name} already exists in the phonebook.\")\n",
        "  else:\n",
        "    phonebook[name] = number\n",
        "    print(f\"{name} added to the phonebook.\")\n",
        "\n",
        "def search_contact(phonebook):\n",
        "  name = input(\"Enter contact name to search: \")\n",
        "\n",
        "  if name in phonebook:\n",
        "    print(f\"{name}: {phonebook[name]}\")\n",
        "\n",
        "  else:\n",
        "    print(f\"{name} not found in the phonebook.\")\n",
        "\n",
        "def delete_contact(phonebook):\n",
        "  name = input(\"Enter contact name to delete: \")\n",
        "  if name in phonebook:\n",
        "    del phonebook[name]\n",
        "    print(f\"{name} deleted from the phonebook.\")\n",
        "  else:\n",
        "    print(f\"{name} not found in phonebook.\")\n",
        "\n",
        "\n",
        "def display_contact(phonebook):\n",
        "  if phonebook:\n",
        "    print(\"\\n phonebook Contacts list\")\n",
        "    for name,number in phonebook.items():\n",
        "      print(f\"{name}: {number}\")\n",
        "    else:\n",
        "      print(\"phonebook is empty.\")\n",
        "\n",
        "if __name__ == \"__main__\":\n",
        "    phonebook = {}\n",
        "\n",
        "    while True:\n",
        "      print(\"\\n phonebook Menue\")\n",
        "      print(\"1. Add Contact\")\n",
        "      print(\"2. Search Contact\")\n",
        "      print(\"3. Delete Contact\")\n",
        "      print(\"4. Display Contacts\")\n",
        "      print(\"5. Exit\")\n",
        "\n",
        "      choice = input(\"Enter yourchoice (1-5): \")\n",
        "\n",
        "      if choice == '1':\n",
        "        add_contact(phonebook)\n",
        "      elif choice == '2':\n",
        "        search_contact(phonebook)\n",
        "      elif choice == '3':\n",
        "        delete_contact(phonebook)\n",
        "      elif choice == '4':\n",
        "        display_contact(phonebook)\n",
        "      elif choice == '5':\n",
        "        print(\"Exiting phonebook. Goodbye!\")\n",
        "        break\n",
        "      else:\n",
        "        print(\"Invalid choice. please enter a number between 1 to 5.\")\n",
        "\n"
      ],
      "metadata": {
        "colab": {
          "base_uri": "https://localhost:8080/"
        },
        "id": "pzZ7A3sgfpDV",
        "outputId": "363aefe1-5ec3-4f90-dcc5-57f98c065d75"
      },
      "execution_count": 2,
      "outputs": [
        {
          "output_type": "stream",
          "name": "stdout",
          "text": [
            "01_phonebook\n",
            "\n",
            " phonebook Menue\n",
            "1. Add Contact\n",
            "2. Search Contact\n",
            "3. Delete Contact\n",
            "4. Display Contacts\n",
            "5. Exit\n",
            "Enter yourchoice (1-5): 1\n",
            "Enter contact name: ishrat\n",
            "Enter contact number: 03338955227\n",
            "ishrat added to the phonebook.\n",
            "\n",
            " phonebook Menue\n",
            "1. Add Contact\n",
            "2. Search Contact\n",
            "3. Delete Contact\n",
            "4. Display Contacts\n",
            "5. Exit\n",
            "Enter yourchoice (1-5): 5\n",
            "Exiting phonebook. Goodbye!\n"
          ]
        }
      ]
    },
    {
      "cell_type": "code",
      "source": [
        "print(\"02_pop_up_shop\")\n",
        "\n",
        "def calculate_total_cost():\n",
        "  fruits_price = {\n",
        "      \"apple\": 5.0,\n",
        "      \"mango\": 15.0,\n",
        "      \"kiwi\": 8.0,\n",
        "      \"pear\": 12.0,\n",
        "      \"banana\": 6.0,\n",
        "      \"orange\": 10.0\n",
        "\n",
        "      }\n",
        "\n",
        "  total_cost = 0\n",
        "\n",
        "  for fruit,price in fruits_price.items():\n",
        "    while True:\n",
        "       try:\n",
        "         quantity = int(input(f'How many {fruit} do you want?: '))\n",
        "         if quantity < 0:\n",
        "          print(\"Invalid input. Please enter a non-negative number.\")\n",
        "          continue\n",
        "         total_cost += price * quantity\n",
        "         break\n",
        "       except ValueError:\n",
        "          print(\"Invalid input. Please enter a valid number.\")\n",
        "\n",
        "          print(f\"\\n your total cost is: ${total_cost:.2f}\")\n",
        "\n",
        "if __name__ == \"__main__\":\n",
        "  calculate_total_cost()\n",
        "\n",
        "\n",
        "\n",
        "\n"
      ],
      "metadata": {
        "colab": {
          "base_uri": "https://localhost:8080/"
        },
        "id": "1pTR__t_mrSr",
        "outputId": "500b3732-2fb8-44f2-bb62-104a6336d90a"
      },
      "execution_count": 3,
      "outputs": [
        {
          "name": "stdout",
          "output_type": "stream",
          "text": [
            "02_pop_up_shop\n",
            "How many apple do you want?: 6\n",
            "How many mango do you want?: 10\n",
            "How many kiwi do you want?: 12\n",
            "How many pear do you want?: 5\n",
            "How many banana do you want?: 9\n",
            "How many orange do you want?: 8\n"
          ]
        }
      ]
    },
    {
      "cell_type": "code",
      "source": [
        "import hashlib\n",
        "\n",
        "print(\"03_powerful_password\")\n",
        "\n",
        "def hash_password(password):\n",
        "   return hashlib.sha256(password.encode()).hexdigest()\n",
        "\n",
        "stored_logins = {\n",
        "    \"user@example.com\":hash_password(\"password123\"),\n",
        "    \"admin@example.com\":hash_password(\"adminpass\")\n",
        "}\n",
        "\n",
        "def login(email,password):\n",
        "  if email in stored_logins:\n",
        "    return stored_logins[email] == hash_password(password)\n",
        "  return False\n",
        "\n",
        "if __name__ ==\"__main__\":\n",
        "    email = input(\"Enter your email: \")\n",
        "    password = input(\"Enter your password: \")\n",
        "\n",
        "if login(email,password):\n",
        "    print(\"Login successful!\")\n",
        "else:\n",
        "    print(\"Invalid email or\")"
      ],
      "metadata": {
        "colab": {
          "base_uri": "https://localhost:8080/"
        },
        "id": "WetKxSAKrh04",
        "outputId": "663ef368-6b04-445d-8ca3-e366cf1abdc8"
      },
      "execution_count": 7,
      "outputs": [
        {
          "output_type": "stream",
          "name": "stdout",
          "text": [
            "03_powerful_password\n",
            "Enter your email: abc@gmail.com\n",
            "Enter your password: 12345678\n",
            "Invalid email or\n"
          ]
        }
      ]
    }
  ]
}